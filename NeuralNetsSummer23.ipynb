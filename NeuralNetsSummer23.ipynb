{
 "cells": [
  {
   "cell_type": "code",
   "execution_count": 354,
   "metadata": {},
   "outputs": [],
   "source": [
    "import numpy as np\n",
    "%matplotlib inline\n",
    "import matplotlib.pyplot as plt\n",
    "\n",
    "\n",
    "class Neural_Network(object):\n",
    "    def __init__(self):\n",
    "        #Define Parameters\n",
    "        self.inputLayerSize = 2\n",
    "        self.outputLayerSize =1\n",
    "        \n",
    "        self.hiddenLayerSize =3\n",
    "        self.hiddenLayer2Size = 5\n",
    "        \n",
    "        #Define Weights\n",
    "        self.W1=np.random.rand(self.inputLayerSize,self.hiddenLayerSize)\n",
    "        self.W2=np.random.rand(self.hiddenLayerSize,self.outputLayerSize)\n",
    "#         self.W3=np.random.rand(self.hiddenLayer2Size, self.outputLayerSize)\n",
    "        \n",
    "    def updateHiddenLayer(self):\n",
    "        \n",
    "        self.W1=np.random.rand(self.inputLayerSize, self.hiddenLayerSize)\n",
    "        self.W2=np.random.rand(self.hiddenLayerSize, self.hiddenLayer2Size)\n",
    "        self.W3=np.random.rand(self.hiddenLayer2Size, self.outputLayerSize)\n",
    "\n",
    "    def forward(self,X):\n",
    "        #Propagate inputs through network\n",
    "        self.z2 = np.dot(X,self.W1)\n",
    "        self.a2 = self.sigmoid(self.z2)\n",
    "        self.z3 = np.dot(self.a2,self.W2)\n",
    "        yHat = self.sigmoid(self.z3)\n",
    "        return yHat\n",
    "    \n",
    "    def forward_relu(self,X): ###added for q2: relu\n",
    "        #Propagate inputs through network\n",
    "        self.z2 = np.dot(X,self.W1)\n",
    "        \n",
    "        self.a2 = self.relu(self.z2)\n",
    "        self.z3 = np.dot(self.a2,self.W2)\n",
    "        \n",
    "        ##did u have to add the following lines\n",
    "        self.a3 = self.relu(self.z3)\n",
    "        self.z4 = np.dot(self.a3,self.W3)\n",
    "        \n",
    "        yHat = self.sigmoid(self.z4) # and modify to be z4\n",
    "        return yHat\n",
    "    \n",
    "    def sigmoid(self, z):\n",
    "        #Apply Sigmoid Activation Function\n",
    "        return 1/(1+np.exp(-z))\n",
    "    \n",
    "    def sigmoidPrime(self,z):\n",
    "        #Derivative of Sigmoid Function\n",
    "        return np.exp(-z)/((1+np.exp(-z))**2)\n",
    "    \n",
    "    def relu(self, z):\n",
    "        return np.maximum(0, z)\n",
    "    \n",
    "    def reluPrime(self,z):\n",
    "        return 1 * (z > 0)\n",
    "    \n",
    "    def costFunction(self, X, y):\n",
    "        #Compute Cost Function with weights already stored in class\n",
    "        self.yHat=self.forward(X)\n",
    "        J=0.5*sum((y-self.yHat)**2)\n",
    "        return J\n",
    "    \n",
    "    def costFunction_relu(self, X, y): ###added for q2: relu\n",
    "        #Compute Cost Function with weights already stored in class\n",
    "        self.yHat=self.forward_relu(X)\n",
    "        J=0.5*sum((y-self.yHat)**2)\n",
    "        return J\n",
    "    \n",
    "    def costFunctionPrime(self, X, y):\n",
    "        #Compute derivatives with respect to W1 and W2\n",
    "        self.yHat=self.forward(X)\n",
    "        delta3 = np.multiply(-(y-self.yHat),self.sigmoidPrime(self.z3))\n",
    "        dJdW2=np.dot(self.a2.T,delta3)\n",
    "        delta2=np.dot(delta3,self.W2.T)*self.sigmoidPrime(self.z2)\n",
    "        dJdW1=np.dot(X.T,delta2)\n",
    "        return dJdW1,dJdW2\n",
    "    \n",
    "    def costFunctionPrime_relu(self, X, y): ###added for q2: relu\n",
    "        #Compute derivatives with respect to W1 and W2\n",
    "        self.yHat=self.forward_relu(X)\n",
    "        \n",
    "        delta3 = np.multiply(-(y-self.yHat),self.reluPrime(self.z4))\n",
    "        dJdW3=np.dot(self.a3.T,delta3)\n",
    "        \n",
    "        delta2=np.dot(delta3,self.W3.T)*self.reluPrime(self.z3)\n",
    "        dJdW2=np.dot(self.a2.T,delta2)\n",
    "        \n",
    "        delta1 = np.dot(delta2,self.W2.T)*self.reluPrime(self.z2)\n",
    "        djdW1 = np.dot(X.T, delta1)\n",
    "        return dJdW1, dJdW2, dJdW3\n",
    "    "
   ]
  },
  {
   "cell_type": "code",
   "execution_count": 355,
   "metadata": {},
   "outputs": [],
   "source": [
    "X=np.array(([3,5],[5,1],[10,1]),dtype=float)\n",
    "y=np.array(([75],[80],[93]),dtype=float)"
   ]
  },
  {
   "cell_type": "code",
   "execution_count": 356,
   "metadata": {},
   "outputs": [
    {
     "data": {
      "text/plain": [
       "array([[ 3.,  5.],\n",
       "       [ 5.,  1.],\n",
       "       [10.,  1.]])"
      ]
     },
     "execution_count": 356,
     "metadata": {},
     "output_type": "execute_result"
    }
   ],
   "source": [
    "X\n"
   ]
  },
  {
   "cell_type": "code",
   "execution_count": 357,
   "metadata": {},
   "outputs": [
    {
     "data": {
      "text/plain": [
       "array([[75.],\n",
       "       [80.],\n",
       "       [93.]])"
      ]
     },
     "execution_count": 357,
     "metadata": {},
     "output_type": "execute_result"
    }
   ],
   "source": [
    "y"
   ]
  },
  {
   "cell_type": "code",
   "execution_count": 358,
   "metadata": {},
   "outputs": [],
   "source": [
    "X=X/np.amax(X,axis=0)\n",
    "y=y/100"
   ]
  },
  {
   "cell_type": "code",
   "execution_count": 359,
   "metadata": {},
   "outputs": [
    {
     "data": {
      "text/plain": [
       "(array([[0.3, 1. ],\n",
       "        [0.5, 0.2],\n",
       "        [1. , 0.2]]),\n",
       " array([[0.75],\n",
       "        [0.8 ],\n",
       "        [0.93]]))"
      ]
     },
     "execution_count": 359,
     "metadata": {},
     "output_type": "execute_result"
    }
   ],
   "source": [
    "X,y\n"
   ]
  },
  {
   "cell_type": "code",
   "execution_count": 360,
   "metadata": {},
   "outputs": [],
   "source": [
    "NN=Neural_Network()"
   ]
  },
  {
   "cell_type": "code",
   "execution_count": 361,
   "metadata": {},
   "outputs": [],
   "source": [
    "yH=NN.forward(X)"
   ]
  },
  {
   "cell_type": "code",
   "execution_count": 362,
   "metadata": {},
   "outputs": [
    {
     "data": {
      "text/plain": [
       "array([[0.65984552],\n",
       "       [0.6446121 ],\n",
       "       [0.64950593]])"
      ]
     },
     "execution_count": 362,
     "metadata": {},
     "output_type": "execute_result"
    }
   ],
   "source": [
    "yH"
   ]
  },
  {
   "cell_type": "code",
   "execution_count": 363,
   "metadata": {},
   "outputs": [
    {
     "data": {
      "text/plain": [
       "array([[0.75],\n",
       "       [0.8 ],\n",
       "       [0.93]])"
      ]
     },
     "execution_count": 363,
     "metadata": {},
     "output_type": "execute_result"
    }
   ],
   "source": [
    "y"
   ]
  },
  {
   "cell_type": "code",
   "execution_count": 364,
   "metadata": {},
   "outputs": [
    {
     "data": {
      "text/plain": [
       "<matplotlib.legend.Legend at 0x1083fa490>"
      ]
     },
     "execution_count": 364,
     "metadata": {},
     "output_type": "execute_result"
    },
    {
     "data": {
      "image/png": "[encoded data removed]",
      "text/plain": [
       "<Figure size 640x480 with 1 Axes>"
      ]
     },
     "metadata": {},
     "output_type": "display_data"
    }
   ],
   "source": [
    "testValues=np.arange(-5,5,0.01)\n",
    "plt.plot(testValues,NN.sigmoid(testValues),linewidth=2)\n",
    "plt.plot(testValues, NN.sigmoidPrime(testValues),linewidth=2)\n",
    "plt.grid(1)\n",
    "plt.legend(['Sigmoid','SigmoidPrime'])"
   ]
  },
  {
   "cell_type": "code",
   "execution_count": 365,
   "metadata": {},
   "outputs": [],
   "source": [
    "NN=Neural_Network()"
   ]
  },
  {
   "cell_type": "code",
   "execution_count": 366,
   "metadata": {},
   "outputs": [],
   "source": [
    "cost1=NN.costFunction(X,y)"
   ]
  },
  {
   "cell_type": "code",
   "execution_count": 367,
   "metadata": {},
   "outputs": [
    {
     "data": {
      "text/plain": [
       "array([0.01419174])"
      ]
     },
     "execution_count": 367,
     "metadata": {},
     "output_type": "execute_result"
    }
   ],
   "source": [
    "cost1"
   ]
  },
  {
   "cell_type": "code",
   "execution_count": 368,
   "metadata": {},
   "outputs": [],
   "source": [
    "dJdW1,dJdW2=NN.costFunctionPrime(X,y)"
   ]
  },
  {
   "cell_type": "code",
   "execution_count": 369,
   "metadata": {},
   "outputs": [
    {
     "data": {
      "text/plain": [
       "array([[-0.00564198, -0.00772104, -0.0018137 ],\n",
       "       [-0.00083742, -0.00119377, -0.00027678]])"
      ]
     },
     "execution_count": 369,
     "metadata": {},
     "output_type": "execute_result"
    }
   ],
   "source": [
    "dJdW1"
   ]
  },
  {
   "cell_type": "code",
   "execution_count": 370,
   "metadata": {},
   "outputs": [
    {
     "data": {
      "text/plain": [
       "array([[-0.02350115],\n",
       "       [-0.01823622],\n",
       "       [-0.02017063]])"
      ]
     },
     "execution_count": 370,
     "metadata": {},
     "output_type": "execute_result"
    }
   ],
   "source": [
    "dJdW2"
   ]
  },
  {
   "cell_type": "code",
   "execution_count": 371,
   "metadata": {},
   "outputs": [
    {
     "name": "stdout",
     "output_type": "stream",
     "text": [
      "[0.01419174] [0.01566589]\n"
     ]
    }
   ],
   "source": [
    "scalar=1\n",
    "NN.W1 = NN.W1+scalar*dJdW1\n",
    "NN.W2 = NN.W2+scalar*dJdW2\n",
    "cost2 = NN.costFunction(X,y)\n",
    "print (cost1,cost2)"
   ]
  },
  {
   "cell_type": "code",
   "execution_count": 372,
   "metadata": {},
   "outputs": [
    {
     "name": "stdout",
     "output_type": "stream",
     "text": [
      "[0.01566589] [0.01551069]\n"
     ]
    }
   ],
   "source": [
    "scalar=0.1\n",
    "NN.W1 = NN.W1-scalar*dJdW1\n",
    "NN.W2 = NN.W2-scalar*dJdW2\n",
    "cost3 = NN.costFunction(X,y)\n",
    "print (cost2,cost3)"
   ]
  },
  {
   "cell_type": "code",
   "execution_count": 373,
   "metadata": {},
   "outputs": [
    {
     "name": "stdout",
     "output_type": "stream",
     "text": [
      "351\n"
     ]
    },
    {
     "data": {
      "image/png": "[encoded data removed]",
      "text/plain": [
       "<Figure size 640x480 with 1 Axes>"
      ]
     },
     "metadata": {},
     "output_type": "display_data"
    }
   ],
   "source": [
    "###Q1\n",
    "NN1 = Neural_Network()\n",
    "NN2 = Neural_Network()\n",
    "\n",
    "\n",
    "cost_history1 = []\n",
    "iterations = 0\n",
    "\n",
    "cost = 100\n",
    "while cost > 0.002:\n",
    "    scalar = 3\n",
    "    dJdW1, dJdW2 = NN1.costFunctionPrime(X, y)\n",
    "    NN1.W1 = NN1.W1 - scalar * dJdW1\n",
    "    NN1.W2 = NN1.W2 - scalar * dJdW2\n",
    "    cost = NN1.costFunction(X, y)\n",
    "    cost_history1.append(cost)\n",
    "    iterations += 1\n",
    "    \n",
    "plt.plot(cost_history1)\n",
    "print(iterations)"
   ]
  },
  {
   "cell_type": "code",
   "execution_count": 374,
   "metadata": {},
   "outputs": [
    {
     "name": "stdout",
     "output_type": "stream",
     "text": [
      "38\n"
     ]
    },
    {
     "data": {
      "image/png": "[encoded data removed]",
      "text/plain": [
       "<Figure size 640x480 with 1 Axes>"
      ]
     },
     "metadata": {},
     "output_type": "display_data"
    }
   ],
   "source": [
    "# using a bigger scalar\n",
    "\n",
    "cost_history2 = []\n",
    "iterations = 0\n",
    "\n",
    "cost = 100\n",
    "while cost > 0.002:\n",
    "    scalar = 30\n",
    "    dJdW1, dJdW2 = NN2.costFunctionPrime(X, y)\n",
    "    NN2.W1 = NN2.W1 - scalar * dJdW1\n",
    "    NN2.W2 = NN2.W2 - scalar * dJdW2\n",
    "    cost = NN2.costFunction(X, y)\n",
    "    cost_history2.append(cost)\n",
    "    iterations += 1\n",
    "    \n",
    "plt.plot(cost_history2)\n",
    "print(iterations)"
   ]
  },
  {
   "cell_type": "code",
   "execution_count": 375,
   "metadata": {},
   "outputs": [
    {
     "name": "stdout",
     "output_type": "stream",
     "text": [
      "14\n"
     ]
    },
    {
     "data": {
      "image/png": "[encoded data removed]",
      "text/plain": [
       "<Figure size 640x480 with 1 Axes>"
      ]
     },
     "metadata": {},
     "output_type": "display_data"
    }
   ],
   "source": [
    "###2\n",
    "\n",
    "NN3 = Neural_Network()\n",
    "NN3.updateHiddenLayer()\n",
    "\n",
    "cost_history3 = []\n",
    "iterations = 0\n",
    "\n",
    "cost = 100\n",
    "while cost > 0.002:\n",
    "    scalar = 1\n",
    "    dJdW1, dJdW2, dJdW3 = NN3.costFunctionPrime_relu(X, y)\n",
    "    NN3.W1 = NN3.W1 - scalar * dJdW1\n",
    "    NN3.W2 = NN3.W2 - scalar * dJdW2\n",
    "    NN3.W3 = NN3.W3 - scalar * dJdW3\n",
    "    cost = NN3.costFunction_relu(X, y)\n",
    "    cost_history3.append(cost)\n",
    "    iterations += 1\n",
    "#     print(cost)\n",
    "    \n",
    "plt.plot(cost_history3)\n",
    "print(iterations)"
   ]
  }
 ],
 "metadata": {
  "kernelspec": {
   "display_name": "Python 3 (ipykernel)",
   "language": "python",
   "name": "python3"
  },
  "language_info": {
   "codemirror_mode": {
    "name": "ipython",
    "version": 3
   },
   "file_extension": ".py",
   "mimetype": "text/x-python",
   "name": "python",
   "nbconvert_exporter": "python",
   "pygments_lexer": "ipython3",
   "version": "3.11.4"
  }
 },
 "nbformat": 4,
 "nbformat_minor": 2
}
